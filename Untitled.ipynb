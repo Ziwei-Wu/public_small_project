{
 "cells": [
  {
   "cell_type": "code",
   "execution_count": 4,
   "metadata": {},
   "outputs": [],
   "source": [
    "import argparse\n",
    "import warnings\n",
    "import matplotlib.pyplot as plt\n",
    "import subprocess\n",
    "import dele_TOA_noise"
   ]
  },
  {
   "cell_type": "code",
   "execution_count": 5,
   "metadata": {},
   "outputs": [
    {
     "data": {
      "text/plain": [
       "1"
      ]
     },
     "execution_count": 5,
     "metadata": {},
     "output_type": "execute_result"
    }
   ],
   "source": [
    "#before moving toa noise\n",
    "subprocess.call('tempo2 -gr plk -f J1921+2153.par J1921+2153.T.tim', shell=True)"
   ]
  },
  {
   "cell_type": "code",
   "execution_count": 6,
   "metadata": {},
   "outputs": [],
   "source": [
    "badchan = dele_TOA_noise.getbadchan('J1921+2153.par', 'J1921+2153.T.tim')"
   ]
  },
  {
   "cell_type": "code",
   "execution_count": 8,
   "metadata": {},
   "outputs": [
    {
     "name": "stdout",
     "output_type": "stream",
     "text": [
      "171.093002\n",
      "172.070007\n",
      "172.850998\n",
      "173.046005\n",
      "173.242004\n",
      "173.436996\n",
      "173.632004\n",
      "175.975998\n",
      "176.367004\n",
      "176.561996\n",
      "176.757004\n",
      "176.953003\n",
      "177.147995\n",
      "177.343002\n",
      "179.296005\n",
      "179.492004\n",
      "179.686996\n",
      "179.882004\n",
      "180.078003\n",
      "180.272995\n",
      "180.468002\n",
      "180.664001\n",
      "181.054001\n",
      "181.445007\n",
      "181.639999\n",
      "181.835007\n",
      "182.031006\n",
      "182.225998\n",
      "182.421005\n",
      "182.617004\n",
      "182.811996\n",
      "183.007004\n",
      "183.203003\n",
      "183.397995\n",
      "183.789001\n",
      "183.983994\n",
      "184.179001\n",
      "184.375\n",
      "184.570007\n",
      "184.764999\n",
      "184.960007\n",
      "185.156006\n",
      "185.350998\n",
      "185.546005\n",
      "185.742004\n",
      "185.936996\n",
      "186.132004\n",
      "186.328003\n",
      "186.522995\n",
      "186.718002\n",
      "186.914001\n",
      "187.108994\n",
      "187.695007\n",
      "187.889999\n",
      "188.085007\n",
      "188.281006\n",
      "188.475998\n",
      "188.671005\n",
      "188.867004\n",
      "189.061996\n",
      "189.257004\n",
      "189.453003\n",
      "189.647995\n",
      "189.843002\n",
      "190.039001\n",
      "190.233994\n",
      "190.429001\n"
     ]
    }
   ],
   "source": [
    "data0 = dele_TOA_noise.removebadchan(badchan, 'J1921+2153.T.tim')"
   ]
  },
  {
   "cell_type": "code",
   "execution_count": 10,
   "metadata": {},
   "outputs": [],
   "source": [
    "dele_TOA_noise.addinfo(data0, 'J1921+2153.T.tim')"
   ]
  },
  {
   "cell_type": "code",
   "execution_count": 11,
   "metadata": {},
   "outputs": [
    {
     "data": {
      "text/plain": [
       "1"
      ]
     },
     "execution_count": 11,
     "metadata": {},
     "output_type": "execute_result"
    }
   ],
   "source": [
    "#after moving toa noise\n",
    "subprocess.call('tempo2 -gr plk -f J1921+2153.par J1921+2153.T.tim', shell=True)"
   ]
  },
  {
   "cell_type": "code",
   "execution_count": null,
   "metadata": {},
   "outputs": [],
   "source": []
  }
 ],
 "metadata": {
  "kernelspec": {
   "display_name": "Python 2",
   "language": "python",
   "name": "python2"
  },
  "language_info": {
   "codemirror_mode": {
    "name": "ipython",
    "version": 2
   },
   "file_extension": ".py",
   "mimetype": "text/x-python",
   "name": "python",
   "nbconvert_exporter": "python",
   "pygments_lexer": "ipython2",
   "version": "2.7.15+"
  }
 },
 "nbformat": 4,
 "nbformat_minor": 2
}
